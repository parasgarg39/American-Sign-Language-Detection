{
  "nbformat": 4,
  "nbformat_minor": 0,
  "metadata": {
    "colab": {
      "name": "SigmoidFinal.ipynb",
      "provenance": [],
      "collapsed_sections": []
    },
    "kernelspec": {
      "name": "python3",
      "display_name": "Python 3"
    },
    "language_info": {
      "name": "python"
    },
    "accelerator": "GPU"
  },
  "cells": [
    {
      "cell_type": "code",
      "metadata": {
        "colab": {
          "base_uri": "https://localhost:8080/"
        },
        "id": "FfzJ_l0sTWw2",
        "outputId": "70d2883f-b74d-40d1-8eb0-e584ffe13a8f"
      },
      "source": [
        "from google.colab import drive\n",
        "\n",
        "drive.mount('/content/gdrive')\n",
        "\n",
        "#Mount drive"
      ],
      "execution_count": null,
      "outputs": [
        {
          "output_type": "stream",
          "text": [
            "Mounted at /content/gdrive\n"
          ],
          "name": "stdout"
        }
      ]
    },
    {
      "cell_type": "code",
      "metadata": {
        "colab": {
          "base_uri": "https://localhost:8080/"
        },
        "id": "H7VcQ8AhTYJF",
        "outputId": "ba59e95f-3e38-4a41-c587-f6d5c8b2decd"
      },
      "source": [
        "!git clone 'https://github.com/shadabsk/Sign-Language-Recognition-Using-Hand-Gestures-Keras-PyQT5-OpenCV'\n",
        "#Clone Data"
      ],
      "execution_count": null,
      "outputs": [
        {
          "output_type": "stream",
          "text": [
            "Cloning into 'Sign-Language-Recognition-Using-Hand-Gestures-Keras-PyQT5-OpenCV'...\n",
            "remote: Enumerating objects: 52679, done.\u001b[K\n",
            "remote: Counting objects: 100% (52088/52088), done.\u001b[K\n",
            "remote: Compressing objects: 100% (52080/52080), done.\u001b[K\n",
            "remote: Total 52679 (delta 9), reused 52080 (delta 8), pack-reused 591\u001b[K\n",
            "Receiving objects: 100% (52679/52679), 86.34 MiB | 38.44 MiB/s, done.\n",
            "Resolving deltas: 100% (184/184), done.\n",
            "Checking out files: 100% (52086/52086), done.\n"
          ],
          "name": "stdout"
        }
      ]
    },
    {
      "cell_type": "code",
      "metadata": {
        "id": "BaVmhcvUTYMD"
      },
      "source": [
        "import matplotlib.pyplot as plt\n",
        "import seaborn as sns\n",
        "\n",
        "import keras\n",
        "from keras.models import Sequential\n",
        "from keras.layers import Dense, Conv2D , MaxPooling2D , Flatten , Dropout \n",
        "from keras.preprocessing.image import ImageDataGenerator\n",
        "from keras.optimizers import Adam\n",
        "from keras.models import Sequential\n",
        "from keras.layers import Convolution2D\n",
        "from keras.layers import MaxPooling2D\n",
        "from keras.layers import Flatten\n",
        "from keras.layers import Dense, Dropout\n",
        "from keras.optimizers import Adam\n",
        "\n",
        "from sklearn.metrics import classification_report,confusion_matrix\n",
        "from keras.layers import Conv2D, MaxPool2D, Flatten, Dense, InputLayer, BatchNormalization, Dropout\n",
        "\n",
        "import tensorflow as tf\n",
        "\n",
        "import cv2\n",
        "import os\n",
        "\n",
        "import numpy as np\n"
      ],
      "execution_count": null,
      "outputs": []
    },
    {
      "cell_type": "code",
      "metadata": {
        "id": "YENtuP-KTYOz"
      },
      "source": [
        "DATADIRTRAIN=\"/content/Sign-Language-Recognition-Using-Hand-Gestures-Keras-PyQT5-OpenCV/Source Code/Dataset/training_set\"\n",
        "DATADIRVALID='/content/Sign-Language-Recognition-Using-Hand-Gestures-Keras-PyQT5-OpenCV/Source Code/Dataset/test_set'\n",
        "#Dataset path"
      ],
      "execution_count": null,
      "outputs": []
    },
    {
      "cell_type": "code",
      "metadata": {
        "id": "rFyTio8WTYRk"
      },
      "source": [
        "train=ImageDataGenerator(rescale=1/255,shear_range=0.2,\n",
        "        zoom_range=0.2,\n",
        "        horizontal_flip=True)\n",
        "valid=ImageDataGenerator(rescale=1/255)\n",
        "\n",
        "#ImageDataGenerator is a technique that can be used to artificially expand the size of a training dataset by creating modified versions of images in the dataset.\n",
        "#Rescale 1./255 is to transform every pixel value from range [0,255] -> [0,1].\n",
        "#Rescale->Data normalization is an important step which ensures that each input parameter (pixel, in this case) has a similar data distribution. \n",
        "#Rescale->This makes convergence faster while training the network\n",
        "#shear_range is for randomly applying shearing transformations. \n",
        "#zoom_range is for randomly zooming inside pictures.\n",
        "# horizontal_flip is for randomly flipping half of the images horizontally"
      ],
      "execution_count": null,
      "outputs": []
    },
    {
      "cell_type": "code",
      "metadata": {
        "colab": {
          "base_uri": "https://localhost:8080/"
        },
        "id": "fPgaMrCDTYUj",
        "outputId": "8350e54f-a1fe-4ac5-dedf-4426fe27d83a"
      },
      "source": [
        "train= train.flow_from_directory(\n",
        "       DATADIRTRAIN ,\n",
        "        target_size=(64, 64),\n",
        "        batch_size=32,\n",
        "        class_mode='categorical')\n",
        "\n",
        "valid = valid.flow_from_directory(\n",
        "        DATADIRVALID,\n",
        "        target_size=(64, 64),\n",
        "        batch_size=32,\n",
        "        class_mode='categorical')\n",
        "#batch_size: No. of images to be yielded from the generator per batch."
      ],
      "execution_count": null,
      "outputs": [
        {
          "output_type": "stream",
          "text": [
            "Found 45500 images belonging to 26 classes.\n",
            "Found 6500 images belonging to 26 classes.\n"
          ],
          "name": "stdout"
        }
      ]
    },
    {
      "cell_type": "code",
      "metadata": {
        "colab": {
          "base_uri": "https://localhost:8080/"
        },
        "id": "0si-t7GvTYZj",
        "outputId": "0d5c1c86-7b90-44e0-ee66-ea55a389cbe5"
      },
      "source": [
        "train.class_indices"
      ],
      "execution_count": null,
      "outputs": [
        {
          "output_type": "execute_result",
          "data": {
            "text/plain": [
              "{'A': 0,\n",
              " 'B': 1,\n",
              " 'C': 2,\n",
              " 'D': 3,\n",
              " 'E': 4,\n",
              " 'F': 5,\n",
              " 'G': 6,\n",
              " 'H': 7,\n",
              " 'I': 8,\n",
              " 'J': 9,\n",
              " 'K': 10,\n",
              " 'L': 11,\n",
              " 'M': 12,\n",
              " 'N': 13,\n",
              " 'O': 14,\n",
              " 'P': 15,\n",
              " 'Q': 16,\n",
              " 'R': 17,\n",
              " 'S': 18,\n",
              " 'T': 19,\n",
              " 'U': 20,\n",
              " 'V': 21,\n",
              " 'W': 22,\n",
              " 'X': 23,\n",
              " 'Y': 24,\n",
              " 'Z': 25}"
            ]
          },
          "metadata": {
            "tags": []
          },
          "execution_count": 7
        }
      ]
    },
    {
      "cell_type": "code",
      "metadata": {
        "colab": {
          "base_uri": "https://localhost:8080/",
          "height": 606
        },
        "id": "M-__F8zCTYcb",
        "outputId": "b06f7f2d-c138-4065-9cff-149bbc8c6693"
      },
      "source": [
        "from keras.models import Sequential\n",
        "from keras.layers import Conv2D, MaxPooling2D, Activation, Dense, Flatten\n",
        "model = Sequential()\n",
        "\n",
        "model.add(Conv2D(32, (5, 5), input_shape=(64, 64, 3)))\n",
        "model.add(Activation('sigmoid'))\n",
        "model.add(MaxPooling2D((2, 2)))\n",
        "\n",
        "model.add(Conv2D(64, (3, 3)))\n",
        "model.add(Activation('sigmoid'))\n",
        "model.add(MaxPooling2D((2, 2)))\n",
        "\n",
        "model.add(Conv2D(64, (3, 3)))\n",
        "model.add(Activation('sigmoid'))\n",
        "model.add(MaxPooling2D((2, 2)))\n",
        "\n",
        "model.add(Flatten())\n",
        "\n",
        "model.add(Dense(128, activation='sigmoid'))\n",
        "\n",
        "model.add(Dense(26, activation='softmax'))\n",
        "\n",
        "model.summary()\n",
        "#Convolution layer − It is the primary building block and perform computational tasks based on convolution function.\n",
        "#Pooling layer − It is arranged next to convolution layer and is used to reduce the size of inputs by removing unnecessary information so computation can be performed faster.\n",
        "#Fully connected layer − It is arranged to next to series of convolution and pooling layer and classify input into various categories.\n",
        "\n",
        "'''\n",
        "The dilation_rate parameter of the Conv2D class is a 2-tuple of integers, which controls the dilation rate for dilated convolution.\n",
        "The Dilated Convolution is the basic convolution applied to the input volume with defined gaps.\n",
        "We use this parameter when working with higher resolution images and fine-grained details are important\n",
        "'''"
      ],
      "execution_count": null,
      "outputs": [
        {
          "output_type": "stream",
          "text": [
            "Model: \"sequential\"\n",
            "_________________________________________________________________\n",
            "Layer (type)                 Output Shape              Param #   \n",
            "=================================================================\n",
            "conv2d (Conv2D)              (None, 60, 60, 32)        2432      \n",
            "_________________________________________________________________\n",
            "activation (Activation)      (None, 60, 60, 32)        0         \n",
            "_________________________________________________________________\n",
            "max_pooling2d (MaxPooling2D) (None, 30, 30, 32)        0         \n",
            "_________________________________________________________________\n",
            "conv2d_1 (Conv2D)            (None, 28, 28, 64)        18496     \n",
            "_________________________________________________________________\n",
            "activation_1 (Activation)    (None, 28, 28, 64)        0         \n",
            "_________________________________________________________________\n",
            "max_pooling2d_1 (MaxPooling2 (None, 14, 14, 64)        0         \n",
            "_________________________________________________________________\n",
            "conv2d_2 (Conv2D)            (None, 12, 12, 64)        36928     \n",
            "_________________________________________________________________\n",
            "activation_2 (Activation)    (None, 12, 12, 64)        0         \n",
            "_________________________________________________________________\n",
            "max_pooling2d_2 (MaxPooling2 (None, 6, 6, 64)          0         \n",
            "_________________________________________________________________\n",
            "flatten (Flatten)            (None, 2304)              0         \n",
            "_________________________________________________________________\n",
            "dense (Dense)                (None, 128)               295040    \n",
            "_________________________________________________________________\n",
            "dense_1 (Dense)              (None, 26)                3354      \n",
            "=================================================================\n",
            "Total params: 356,250\n",
            "Trainable params: 356,250\n",
            "Non-trainable params: 0\n",
            "_________________________________________________________________\n"
          ],
          "name": "stdout"
        },
        {
          "output_type": "execute_result",
          "data": {
            "application/vnd.google.colaboratory.intrinsic+json": {
              "type": "string"
            },
            "text/plain": [
              "'\\nThe dilation_rate parameter of the Conv2D class is a 2-tuple of integers, which controls the dilation rate for dilated convolution.\\nThe Dilated Convolution is the basic convolution applied to the input volume with defined gaps.\\nWe use this parameter when working with higher resolution images and fine-grained details are important\\n'"
            ]
          },
          "metadata": {
            "tags": []
          },
          "execution_count": 8
        }
      ]
    },
    {
      "cell_type": "code",
      "metadata": {
        "id": "BLBPXhY4TYfL"
      },
      "source": [
        "from keras import optimizers\n",
        "model.compile(optimizer='adam',\n",
        "              loss='categorical_crossentropy',\n",
        "              metrics=['accuracy'])"
      ],
      "execution_count": null,
      "outputs": []
    },
    {
      "cell_type": "code",
      "metadata": {
        "id": "NePfUY2HTYh8"
      },
      "source": [
        "from tensorflow.keras.callbacks import EarlyStopping\n",
        "early_stop = EarlyStopping(monitor='val_loss',patience=7)\n",
        "#Early stopping is a method that allows you to specify an arbitrary large number of training epochs and stop training once the model performance stops improving"
      ],
      "execution_count": null,
      "outputs": []
    },
    {
      "cell_type": "code",
      "metadata": {
        "colab": {
          "base_uri": "https://localhost:8080/"
        },
        "id": "2QzFE-dBTYkn",
        "outputId": "e6ec177b-41ac-4113-de57-22d5d818cd23"
      },
      "source": [
        "model.fit(train,epochs=40,batch_size=32, validation_data = valid,callbacks=[early_stop])\n",
        "#One Epoch is when an ENTIRE dataset is passed forward and backward through the neural network only ONCE"
      ],
      "execution_count": null,
      "outputs": [
        {
          "output_type": "stream",
          "text": [
            "Epoch 1/40\n",
            "1422/1422 [==============================] - 100s 41ms/step - loss: 2.1857 - accuracy: 0.3728 - val_loss: 0.4528 - val_accuracy: 0.9118\n",
            "Epoch 2/40\n",
            "1422/1422 [==============================] - 57s 40ms/step - loss: 0.3996 - accuracy: 0.8980 - val_loss: 0.2240 - val_accuracy: 0.9500\n",
            "Epoch 3/40\n",
            "1422/1422 [==============================] - 57s 40ms/step - loss: 0.1845 - accuracy: 0.9543 - val_loss: 0.1445 - val_accuracy: 0.9705\n",
            "Epoch 4/40\n",
            "1422/1422 [==============================] - 57s 40ms/step - loss: 0.1046 - accuracy: 0.9757 - val_loss: 0.0994 - val_accuracy: 0.9829\n",
            "Epoch 5/40\n",
            "1422/1422 [==============================] - 57s 40ms/step - loss: 0.0751 - accuracy: 0.9825 - val_loss: 0.0934 - val_accuracy: 0.9838\n",
            "Epoch 6/40\n",
            "1422/1422 [==============================] - 57s 40ms/step - loss: 0.0531 - accuracy: 0.9866 - val_loss: 0.1142 - val_accuracy: 0.9806\n",
            "Epoch 7/40\n",
            "1422/1422 [==============================] - 57s 40ms/step - loss: 0.0476 - accuracy: 0.9875 - val_loss: 0.0884 - val_accuracy: 0.9877\n",
            "Epoch 8/40\n",
            "1422/1422 [==============================] - 57s 40ms/step - loss: 0.0368 - accuracy: 0.9902 - val_loss: 0.0810 - val_accuracy: 0.9885\n",
            "Epoch 9/40\n",
            "1422/1422 [==============================] - 57s 40ms/step - loss: 0.0293 - accuracy: 0.9921 - val_loss: 0.0929 - val_accuracy: 0.9823\n",
            "Epoch 10/40\n",
            "1422/1422 [==============================] - 57s 40ms/step - loss: 0.0206 - accuracy: 0.9955 - val_loss: 0.0895 - val_accuracy: 0.9857\n",
            "Epoch 11/40\n",
            "1422/1422 [==============================] - 57s 40ms/step - loss: 0.0209 - accuracy: 0.9946 - val_loss: 0.0967 - val_accuracy: 0.9820\n",
            "Epoch 12/40\n",
            "1422/1422 [==============================] - 57s 40ms/step - loss: 0.0196 - accuracy: 0.9949 - val_loss: 0.0769 - val_accuracy: 0.9875\n",
            "Epoch 13/40\n",
            "1422/1422 [==============================] - 57s 40ms/step - loss: 0.0188 - accuracy: 0.9948 - val_loss: 0.0863 - val_accuracy: 0.9854\n",
            "Epoch 14/40\n",
            "1422/1422 [==============================] - 57s 40ms/step - loss: 0.0164 - accuracy: 0.9958 - val_loss: 0.0855 - val_accuracy: 0.9842\n",
            "Epoch 15/40\n",
            "1422/1422 [==============================] - 57s 40ms/step - loss: 0.0128 - accuracy: 0.9972 - val_loss: 0.1061 - val_accuracy: 0.9798\n",
            "Epoch 16/40\n",
            "1422/1422 [==============================] - 57s 40ms/step - loss: 0.0176 - accuracy: 0.9952 - val_loss: 0.0762 - val_accuracy: 0.9882\n",
            "Epoch 17/40\n",
            "1422/1422 [==============================] - 57s 40ms/step - loss: 0.0107 - accuracy: 0.9972 - val_loss: 0.0987 - val_accuracy: 0.9878\n",
            "Epoch 18/40\n",
            "1422/1422 [==============================] - 57s 40ms/step - loss: 0.0124 - accuracy: 0.9966 - val_loss: 0.1300 - val_accuracy: 0.9783\n",
            "Epoch 19/40\n",
            "1422/1422 [==============================] - 57s 40ms/step - loss: 0.0100 - accuracy: 0.9974 - val_loss: 0.1196 - val_accuracy: 0.9863\n",
            "Epoch 20/40\n",
            "1422/1422 [==============================] - 57s 40ms/step - loss: 0.0106 - accuracy: 0.9970 - val_loss: 0.0822 - val_accuracy: 0.9895\n",
            "Epoch 21/40\n",
            "1422/1422 [==============================] - 57s 40ms/step - loss: 0.0087 - accuracy: 0.9978 - val_loss: 0.1092 - val_accuracy: 0.9852\n",
            "Epoch 22/40\n",
            "1422/1422 [==============================] - 57s 40ms/step - loss: 0.0112 - accuracy: 0.9970 - val_loss: 0.0829 - val_accuracy: 0.9868\n",
            "Epoch 23/40\n",
            "1422/1422 [==============================] - 57s 40ms/step - loss: 0.0087 - accuracy: 0.9976 - val_loss: 0.1207 - val_accuracy: 0.9811\n"
          ],
          "name": "stdout"
        },
        {
          "output_type": "execute_result",
          "data": {
            "text/plain": [
              "<keras.callbacks.History at 0x7f43da2cac10>"
            ]
          },
          "metadata": {
            "tags": []
          },
          "execution_count": 11
        }
      ]
    },
    {
      "cell_type": "code",
      "metadata": {
        "colab": {
          "base_uri": "https://localhost:8080/",
          "height": 745
        },
        "id": "i-TnVBDiTYnz",
        "outputId": "62e77616-143c-43e8-bd27-20095cc528d4"
      },
      "source": [
        "import pandas as pd\n",
        "metrics = pd.DataFrame(model.history.history)\n",
        "print(\"The model metrics are\")\n",
        "metrics"
      ],
      "execution_count": null,
      "outputs": [
        {
          "output_type": "stream",
          "text": [
            "The model metrics are\n"
          ],
          "name": "stdout"
        },
        {
          "output_type": "execute_result",
          "data": {
            "text/html": [
              "<div>\n",
              "<style scoped>\n",
              "    .dataframe tbody tr th:only-of-type {\n",
              "        vertical-align: middle;\n",
              "    }\n",
              "\n",
              "    .dataframe tbody tr th {\n",
              "        vertical-align: top;\n",
              "    }\n",
              "\n",
              "    .dataframe thead th {\n",
              "        text-align: right;\n",
              "    }\n",
              "</style>\n",
              "<table border=\"1\" class=\"dataframe\">\n",
              "  <thead>\n",
              "    <tr style=\"text-align: right;\">\n",
              "      <th></th>\n",
              "      <th>loss</th>\n",
              "      <th>accuracy</th>\n",
              "      <th>val_loss</th>\n",
              "      <th>val_accuracy</th>\n",
              "    </tr>\n",
              "  </thead>\n",
              "  <tbody>\n",
              "    <tr>\n",
              "      <th>0</th>\n",
              "      <td>1.349307</td>\n",
              "      <td>0.622242</td>\n",
              "      <td>0.452838</td>\n",
              "      <td>0.911846</td>\n",
              "    </tr>\n",
              "    <tr>\n",
              "      <th>1</th>\n",
              "      <td>0.325751</td>\n",
              "      <td>0.918132</td>\n",
              "      <td>0.223950</td>\n",
              "      <td>0.950000</td>\n",
              "    </tr>\n",
              "    <tr>\n",
              "      <th>2</th>\n",
              "      <td>0.161204</td>\n",
              "      <td>0.960022</td>\n",
              "      <td>0.144522</td>\n",
              "      <td>0.970462</td>\n",
              "    </tr>\n",
              "    <tr>\n",
              "      <th>3</th>\n",
              "      <td>0.098467</td>\n",
              "      <td>0.976198</td>\n",
              "      <td>0.099432</td>\n",
              "      <td>0.982923</td>\n",
              "    </tr>\n",
              "    <tr>\n",
              "      <th>4</th>\n",
              "      <td>0.067629</td>\n",
              "      <td>0.983824</td>\n",
              "      <td>0.093428</td>\n",
              "      <td>0.983846</td>\n",
              "    </tr>\n",
              "    <tr>\n",
              "      <th>5</th>\n",
              "      <td>0.049165</td>\n",
              "      <td>0.987956</td>\n",
              "      <td>0.114188</td>\n",
              "      <td>0.980615</td>\n",
              "    </tr>\n",
              "    <tr>\n",
              "      <th>6</th>\n",
              "      <td>0.043414</td>\n",
              "      <td>0.988681</td>\n",
              "      <td>0.088411</td>\n",
              "      <td>0.987692</td>\n",
              "    </tr>\n",
              "    <tr>\n",
              "      <th>7</th>\n",
              "      <td>0.033520</td>\n",
              "      <td>0.991538</td>\n",
              "      <td>0.081028</td>\n",
              "      <td>0.988462</td>\n",
              "    </tr>\n",
              "    <tr>\n",
              "      <th>8</th>\n",
              "      <td>0.028647</td>\n",
              "      <td>0.992615</td>\n",
              "      <td>0.092876</td>\n",
              "      <td>0.982308</td>\n",
              "    </tr>\n",
              "    <tr>\n",
              "      <th>9</th>\n",
              "      <td>0.023569</td>\n",
              "      <td>0.994220</td>\n",
              "      <td>0.089542</td>\n",
              "      <td>0.985692</td>\n",
              "    </tr>\n",
              "    <tr>\n",
              "      <th>10</th>\n",
              "      <td>0.020716</td>\n",
              "      <td>0.994440</td>\n",
              "      <td>0.096699</td>\n",
              "      <td>0.982000</td>\n",
              "    </tr>\n",
              "    <tr>\n",
              "      <th>11</th>\n",
              "      <td>0.020422</td>\n",
              "      <td>0.994747</td>\n",
              "      <td>0.076878</td>\n",
              "      <td>0.987538</td>\n",
              "    </tr>\n",
              "    <tr>\n",
              "      <th>12</th>\n",
              "      <td>0.018445</td>\n",
              "      <td>0.995121</td>\n",
              "      <td>0.086288</td>\n",
              "      <td>0.985385</td>\n",
              "    </tr>\n",
              "    <tr>\n",
              "      <th>13</th>\n",
              "      <td>0.017063</td>\n",
              "      <td>0.995494</td>\n",
              "      <td>0.085509</td>\n",
              "      <td>0.984154</td>\n",
              "    </tr>\n",
              "    <tr>\n",
              "      <th>14</th>\n",
              "      <td>0.013110</td>\n",
              "      <td>0.996879</td>\n",
              "      <td>0.106145</td>\n",
              "      <td>0.979846</td>\n",
              "    </tr>\n",
              "    <tr>\n",
              "      <th>15</th>\n",
              "      <td>0.015877</td>\n",
              "      <td>0.995714</td>\n",
              "      <td>0.076160</td>\n",
              "      <td>0.988154</td>\n",
              "    </tr>\n",
              "    <tr>\n",
              "      <th>16</th>\n",
              "      <td>0.011679</td>\n",
              "      <td>0.996923</td>\n",
              "      <td>0.098724</td>\n",
              "      <td>0.987846</td>\n",
              "    </tr>\n",
              "    <tr>\n",
              "      <th>17</th>\n",
              "      <td>0.011520</td>\n",
              "      <td>0.996923</td>\n",
              "      <td>0.130004</td>\n",
              "      <td>0.978308</td>\n",
              "    </tr>\n",
              "    <tr>\n",
              "      <th>18</th>\n",
              "      <td>0.011514</td>\n",
              "      <td>0.996813</td>\n",
              "      <td>0.119552</td>\n",
              "      <td>0.986308</td>\n",
              "    </tr>\n",
              "    <tr>\n",
              "      <th>19</th>\n",
              "      <td>0.010406</td>\n",
              "      <td>0.997055</td>\n",
              "      <td>0.082174</td>\n",
              "      <td>0.989538</td>\n",
              "    </tr>\n",
              "    <tr>\n",
              "      <th>20</th>\n",
              "      <td>0.009239</td>\n",
              "      <td>0.997582</td>\n",
              "      <td>0.109157</td>\n",
              "      <td>0.985231</td>\n",
              "    </tr>\n",
              "    <tr>\n",
              "      <th>21</th>\n",
              "      <td>0.009367</td>\n",
              "      <td>0.997429</td>\n",
              "      <td>0.082855</td>\n",
              "      <td>0.986769</td>\n",
              "    </tr>\n",
              "    <tr>\n",
              "      <th>22</th>\n",
              "      <td>0.008906</td>\n",
              "      <td>0.997736</td>\n",
              "      <td>0.120663</td>\n",
              "      <td>0.981077</td>\n",
              "    </tr>\n",
              "  </tbody>\n",
              "</table>\n",
              "</div>"
            ],
            "text/plain": [
              "        loss  accuracy  val_loss  val_accuracy\n",
              "0   1.349307  0.622242  0.452838      0.911846\n",
              "1   0.325751  0.918132  0.223950      0.950000\n",
              "2   0.161204  0.960022  0.144522      0.970462\n",
              "3   0.098467  0.976198  0.099432      0.982923\n",
              "4   0.067629  0.983824  0.093428      0.983846\n",
              "5   0.049165  0.987956  0.114188      0.980615\n",
              "6   0.043414  0.988681  0.088411      0.987692\n",
              "7   0.033520  0.991538  0.081028      0.988462\n",
              "8   0.028647  0.992615  0.092876      0.982308\n",
              "9   0.023569  0.994220  0.089542      0.985692\n",
              "10  0.020716  0.994440  0.096699      0.982000\n",
              "11  0.020422  0.994747  0.076878      0.987538\n",
              "12  0.018445  0.995121  0.086288      0.985385\n",
              "13  0.017063  0.995494  0.085509      0.984154\n",
              "14  0.013110  0.996879  0.106145      0.979846\n",
              "15  0.015877  0.995714  0.076160      0.988154\n",
              "16  0.011679  0.996923  0.098724      0.987846\n",
              "17  0.011520  0.996923  0.130004      0.978308\n",
              "18  0.011514  0.996813  0.119552      0.986308\n",
              "19  0.010406  0.997055  0.082174      0.989538\n",
              "20  0.009239  0.997582  0.109157      0.985231\n",
              "21  0.009367  0.997429  0.082855      0.986769\n",
              "22  0.008906  0.997736  0.120663      0.981077"
            ]
          },
          "metadata": {
            "tags": []
          },
          "execution_count": 12
        }
      ]
    },
    {
      "cell_type": "code",
      "metadata": {
        "colab": {
          "base_uri": "https://localhost:8080/",
          "height": 267
        },
        "id": "MBaXKp9dUmAM",
        "outputId": "599b823b-b37a-4d73-cf02-48d0cfabf172"
      },
      "source": [
        "metrics[['loss','val_loss']].plot()\n",
        "plt.show()"
      ],
      "execution_count": null,
      "outputs": [
        {
          "output_type": "display_data",
          "data": {
            "image/png": "[encoded data removed]",
            "text/plain": [
              "<Figure size 432x288 with 1 Axes>"
            ]
          },
          "metadata": {
            "tags": [],
            "needs_background": "light"
          }
        }
      ]
    },
    {
      "cell_type": "code",
      "metadata": {
        "colab": {
          "base_uri": "https://localhost:8080/",
          "height": 265
        },
        "id": "OWzmdmyFUmDT",
        "outputId": "0c913327-c481-4f97-e111-c458e79e674f"
      },
      "source": [
        "metrics[['accuracy','val_accuracy']].plot()\n",
        "plt.show()"
      ],
      "execution_count": null,
      "outputs": [
        {
          "output_type": "display_data",
          "data": {
            "image/png": "[encoded data removed]",
            "text/plain": [
              "<Figure size 432x288 with 1 Axes>"
            ]
          },
          "metadata": {
            "tags": [],
            "needs_background": "light"
          }
        }
      ]
    },
    {
      "cell_type": "code",
      "metadata": {
        "id": "7yJpEeRYbe72"
      },
      "source": [
        ""
      ],
      "execution_count": null,
      "outputs": []
    }
  ]
}